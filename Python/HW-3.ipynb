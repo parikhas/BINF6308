{
 "cells": [
  {
   "cell_type": "code",
   "execution_count": 3,
   "metadata": {},
   "outputs": [
    {
     "name": "stdout",
     "output_type": "stream",
     "text": [
      "13.33\n",
      "['pasta', 'squash']\n"
     ]
    }
   ],
   "source": [
    "inventory = {\"orange\": 0.75, \"apple\": 0.60, \"banana\": 0.25, \"bread\":3.99, \"eggs\": 3.10, \"milk\": 3.50, \"butter\": 2.75, \"tomato\":1.99, \"spinach\":2.99, \"chicken\":3.89}\n",
    "groceryList = [\"pasta\", \"eggs\", \"butter\", \"apple\", \"squash\", \"spinach\", \"chicken\"]\n",
    "\n",
    "itemsNotFound = []\n",
    "total = 0\n",
    "for item in groceryList:\n",
    "    if item in inventory.keys():\n",
    "        total += inventory[item]\n",
    "    else:\n",
    "        itemsNotFound.append(item)\n",
    "print (total)\n",
    "print(itemsNotFound)\n",
    "    "
   ]
  },
  {
   "cell_type": "code",
   "execution_count": null,
   "metadata": {},
   "outputs": [],
   "source": []
  }
 ],
 "metadata": {
  "kernelspec": {
   "display_name": "Python 3",
   "language": "python",
   "name": "python3"
  },
  "language_info": {
   "codemirror_mode": {
    "name": "ipython",
    "version": 3
   },
   "file_extension": ".py",
   "mimetype": "text/x-python",
   "name": "python",
   "nbconvert_exporter": "python",
   "pygments_lexer": "ipython3",
   "version": "3.7.1"
  }
 },
 "nbformat": 4,
 "nbformat_minor": 2
}
