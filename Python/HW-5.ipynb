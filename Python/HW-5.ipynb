{
 "cells": [
  {
   "cell_type": "code",
   "execution_count": 3,
   "metadata": {},
   "outputs": [
    {
     "name": "stdout",
     "output_type": "stream",
     "text": [
      "Looking for pattern 1 = CAC[ATGC]{3}\n",
      "CACGGC 6\n",
      "CACCAT 28\n",
      "CACGAA 66\n",
      "CACACT 171\n",
      "CACTAG 308\n",
      "CACACT 327\n",
      "CACTCA 369\n",
      "CACTTA 445\n",
      "CACCAC 526\n",
      "CACAGT 585\n",
      "CACAGG 720\n",
      "CACCCA 794\n",
      "CACTCC 825\n",
      "CACATA 879\n",
      "CACTCT 915\n",
      "\n",
      "Looking for pattern 2 = GCC[AT]GG\n",
      "GCCTGG 889\n"
     ]
    }
   ],
   "source": [
    "# restrictionSites\n",
    "\n",
    "import re\n",
    "dna_seq =\"\"\"AACAGCACGGCAACGCTGTGCCTTGGGCACCATGCAGTACCAAACGGAACGATAGTGAAAACAATCACGAATGACCAAATTGAAGTTACTAATGCTACTGAGCTGGTTCAGAGTTCCTCAACAGGTGAAATATGCGACAGTCCTCATCAGATCCTTGATGGAGAAAACTGCACACTAATAGATGCTCTATTGGGAGACCCTCAGTGTGATGGCTTCCAAAATAAGAAATGGGACCTTTTTGTTGAACGCAGCAAAGCCTACAGCAACTGTTACCCTTATGATGTGCCGGATTATGCCTCCCTTAGGTCACTAGTTGCCTCATCCGGCACACTGGAATTTAACAATGAAAGCTTCAATTGGACTGGAGTCACTCAAAATGGAATCAGCTCTGCTTGCAAAAGGAGATCTAATAACAGTTTCTTTAGTAGATTGAATTGGTTGACCCACTTAAAATTCAAATACCCAGCATTGAACGTGACTATGCCAAACAATGAAAAATTTGACAAATTGTACATTTGGGGGGTTCACCACCCGGGTACGGACAATGACCAAATCTTCCTGTATGCTCAAGCATCAGGAAGAATCACAGTCTCTACCAAAAGAAGCCAACAGACTGTAATCCCGAATATCGGATCTAGACCCAGAGTAAGGAATATCCCCAGCAGAATAAGCATCTATTGGACAATAGTAAAACCGGGAGACATACTTTTGATTAACAGCACAGGGAATTTAATTGCTCCTAGGGGTTACTTCAAAATACGAAGTGGGAAAAGCTCAATAATGAGATCAGATGCACCCATTGGCAAATGCAATTCTGAATGCATCACTCCAAATGGAAGCATTCCCAATGACAAACCATTTCAAAATGTAAACAGGATCACATATGGGGCCTGGCCCAGATATGTTAAGCAAAACACTCTGAAATTGGCAACAGGGATGCGAAATGTACCAGAGAAACAAACTAGAGGCATATTTGGCGCAATCGCGGGTTTCATAGAAAATGGTTGGGAAGGAATGGTGGATGGTTGGTACGGTTT\"\"\"\n",
    "\n",
    "match_string = re.compile(\"CAC[ATGC]{3}\")\n",
    "print (\"Looking for pattern 1 = CAC[ATGC]{3}\")\n",
    "\n",
    "for m in match_string.finditer(dna_seq):\n",
    "    print (m.group(), m.start()+1)\n",
    "    \n",
    "print (\"\\nLooking for pattern 2 = GCC[AT]GG\")\n",
    "\n",
    "match_string2 = re.compile(\"GCC[AT]GG\")\n",
    "for m in match_string2.finditer(dna_seq):\n",
    "    print (m.group(), m.start()+1)"
   ]
  },
  {
   "cell_type": "code",
   "execution_count": 3,
   "metadata": {},
   "outputs": [
    {
     "name": "stdout",
     "output_type": "stream",
     "text": [
      "50:30:30:34:35:30:3b:20:51:31:34:30:36:33:0a\n",
      "Saw new as P00450; Q14063\n",
      " After new\n",
      ">P00450; Q14063\n",
      " | Homo sapiens (Human)\n",
      " | NCBI_TaxID=9606;\n",
      " | 1065 AA | CP.\n",
      " <filter object at 0x7f9d37f8b278>\n"
     ]
    }
   ],
   "source": [
    "# swissProtParser\n",
    "\n",
    "import re\n",
    "data = \"\"\n",
    "with open(\"example.sp\",\"r\") as fi:\n",
    "    for line in fi:\n",
    "        if line.startswith(\"AC\"):\n",
    "            AC = line[5:]\n",
    "            new = AC.replace(\"3;\", \"3\")\n",
    "            output = \":\".join(\"{:02x}\".format(ord(c)) for c in new)\n",
    "            new.rstrip()\n",
    "            print (\"Saw new as \" + new + \" After new\")\n",
    "        if line.startswith(\"OS\"):\n",
    "            OS = line[5:]\n",
    "            newOS = OS.replace(\".\", \"\")\n",
    "        if line.startswith(\"OX\"):\n",
    "            OX = line[5:]\n",
    "        if line.startswith(\"ID\"):\n",
    "            ID = line\n",
    "            ID4 = ID.split()[4]\n",
    "            ID5 = ID.split()[5]\n",
    "            fin_id = ID5.replace(\".\", \"\")\n",
    "        if line.startswith(\"GN\"):\n",
    "            GN = line[5:]\n",
    "        if line.startswith( \"SQ\" ):\n",
    "              for line in fi:\n",
    "                    data+=str(line)\n",
    "                    d = filter(str.isalnum, data)\n",
    "                           \n",
    "print (\">\"+new+\" | \"+newOS+\" | \"+OX+\" | \"+ID4, fin_id+\" | \"+GN, d)"
   ]
  },
  {
   "cell_type": "code",
   "execution_count": 121,
   "metadata": {},
   "outputs": [
    {
     "name": "stdout",
     "output_type": "stream",
     "text": [
      "AVVAAVMW 325\n",
      "VAVLMLCL 170\n",
      "LLALVAIF 493\n",
      "IWICWFAA 705\n",
      "LALALAFA 970\n"
     ]
    }
   ],
   "source": [
    "fh = open(\"test.fasta\", \"r\")\n",
    "string = re.compile(\"[VILMFWCA]{8}\")\n",
    "for line in fh:\n",
    "    line.rstrip('\\n')\n",
    "    if line.startswith('>'):\n",
    "        header = line\n",
    "        for sequence in fh:\n",
    "            sequence.rstrip()\n",
    "            for m in string.finditer(sequence):\n",
    "                print m.group(), m.start()+1\n",
    "            \n",
    "            \n",
    "            "
   ]
  },
  {
   "cell_type": "code",
   "execution_count": 2,
   "metadata": {},
   "outputs": [
    {
     "ename": "NameError",
     "evalue": "name 'm' is not defined",
     "output_type": "error",
     "traceback": [
      "\u001b[0;31m---------------------------------------------------------------------------\u001b[0m",
      "\u001b[0;31mNameError\u001b[0m                                 Traceback (most recent call last)",
      "\u001b[0;32m<ipython-input-2-eb44351942ac>\u001b[0m in \u001b[0;36m<module>\u001b[0;34m\u001b[0m\n\u001b[1;32m     20\u001b[0m \u001b[0;32mfor\u001b[0m \u001b[0mi\u001b[0m \u001b[0;32min\u001b[0m \u001b[0mlines_l\u001b[0m\u001b[0;34m:\u001b[0m\u001b[0;34m\u001b[0m\u001b[0;34m\u001b[0m\u001b[0m\n\u001b[1;32m     21\u001b[0m     \u001b[0;31m#print (lines_l[i-1], lines_l[i])\u001b[0m\u001b[0;34m\u001b[0m\u001b[0;34m\u001b[0m\u001b[0;34m\u001b[0m\u001b[0m\n\u001b[0;32m---> 22\u001b[0;31m     \u001b[0mprint\u001b[0m \u001b[0;34m(\u001b[0m\u001b[0mm\u001b[0m\u001b[0;34m.\u001b[0m\u001b[0mgroup\u001b[0m\u001b[0;34m(\u001b[0m\u001b[0;34m)\u001b[0m\u001b[0;34m,\u001b[0m \u001b[0mm\u001b[0m\u001b[0;34m.\u001b[0m\u001b[0mstart\u001b[0m\u001b[0;34m(\u001b[0m\u001b[0;34m)\u001b[0m\u001b[0;34m+\u001b[0m\u001b[0;36m1\u001b[0m\u001b[0;34m)\u001b[0m\u001b[0;34m\u001b[0m\u001b[0;34m\u001b[0m\u001b[0m\n\u001b[0m",
      "\u001b[0;31mNameError\u001b[0m: name 'm' is not defined"
     ]
    }
   ],
   "source": [
    "# findHydrophobicRegionsInFastaFile\n",
    "import re\n",
    "\n",
    "headers_l = []\n",
    "lines_l = []\n",
    "\n",
    "string = re.compile(\"[VILMFWCA]{8}\")\n",
    "\n",
    "def find_hyd(file):\n",
    "    with open(file) as f:\n",
    "        for index, line in enumerate(f):\n",
    "            line.rstrip('\\n')\n",
    "            lines_l.append(line)\n",
    "            for m in string.finditer(line):\n",
    "                headers_l.append(index)\n",
    "                return m.group(), m.start()+1\n",
    "                \n",
    "find_hyd('test.fasta')\n",
    "\n",
    "for i in lines_l:\n",
    "    #print (lines_l[i-1], lines_l[i])\n",
    "    print (m.group(), m.start()+1)"
   ]
  },
  {
   "cell_type": "code",
   "execution_count": null,
   "metadata": {},
   "outputs": [],
   "source": []
  }
 ],
 "metadata": {
  "kernelspec": {
   "display_name": "Python 2",
   "language": "python",
   "name": "python2"
  },
  "language_info": {
   "codemirror_mode": {
    "name": "ipython",
    "version": 3
   },
   "file_extension": ".py",
   "mimetype": "text/x-python",
   "name": "python",
   "nbconvert_exporter": "python",
   "pygments_lexer": "ipython3",
   "version": "3.7.1"
  }
 },
 "nbformat": 4,
 "nbformat_minor": 2
}
